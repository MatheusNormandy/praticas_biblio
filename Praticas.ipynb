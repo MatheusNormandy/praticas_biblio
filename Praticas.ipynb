{
  "cells": [
    {
      "cell_type": "markdown",
      "metadata": {
        "id": "view-in-github",
        "colab_type": "text"
      },
      "source": [
        "<a href=\"https://colab.research.google.com/github/MatheusNormandy/praticas_biblio/blob/main/Praticas.ipynb\" target=\"_parent\"><img src=\"https://colab.research.google.com/assets/colab-badge.svg\" alt=\"Open In Colab\"/></a>"
      ]
    },
    {
      "cell_type": "markdown",
      "source": [
        "<!-- Tela de cadastro pra gente burra  -->\n",
        "#Instalação das bibliotecas"
      ],
      "metadata": {
        "id": "dbetJIIVHO16"
      }
    },
    {
      "cell_type": "code",
      "source": [
        "pip install customtkinter"
      ],
      "metadata": {
        "id": "jsdRjne0HaTa",
        "outputId": "2a7ab8af-52d6-4399-e3a2-337779486584",
        "colab": {
          "base_uri": "https://localhost:8080/"
        }
      },
      "execution_count": 1,
      "outputs": [
        {
          "output_type": "stream",
          "name": "stdout",
          "text": [
            "Collecting customtkinter\n",
            "  Downloading customtkinter-5.2.0-py3-none-any.whl (295 kB)\n",
            "\u001b[?25l     \u001b[90m━━━━━━━━━━━━━━━━━━━━━━━━━━━━━━━━━━━━━━━━\u001b[0m \u001b[32m0.0/295.6 kB\u001b[0m \u001b[31m?\u001b[0m eta \u001b[36m-:--:--\u001b[0m\r\u001b[2K     \u001b[90m━━━━━━━━━━━━━━━━━━━━━━━━━━━━━━━━━━━━━━\u001b[0m \u001b[32m295.6/295.6 kB\u001b[0m \u001b[31m19.0 MB/s\u001b[0m eta \u001b[36m0:00:00\u001b[0m\n",
            "\u001b[?25hCollecting darkdetect (from customtkinter)\n",
            "  Downloading darkdetect-0.8.0-py3-none-any.whl (9.0 kB)\n",
            "Installing collected packages: darkdetect, customtkinter\n",
            "Successfully installed customtkinter-5.2.0 darkdetect-0.8.0\n"
          ]
        }
      ]
    },
    {
      "cell_type": "code",
      "source": [
        "pip install openpyxl"
      ],
      "metadata": {
        "id": "oTGhwJY7Hea6",
        "outputId": "1cd54612-c15e-4e63-ef24-82a2d207b39e",
        "colab": {
          "base_uri": "https://localhost:8080/"
        }
      },
      "execution_count": 2,
      "outputs": [
        {
          "output_type": "stream",
          "name": "stdout",
          "text": [
            "Requirement already satisfied: openpyxl in /usr/local/lib/python3.10/dist-packages (3.0.10)\n",
            "Requirement already satisfied: et-xmlfile in /usr/local/lib/python3.10/dist-packages (from openpyxl) (1.1.0)\n"
          ]
        }
      ]
    },
    {
      "cell_type": "code",
      "source": [
        "pip install pathlib"
      ],
      "metadata": {
        "id": "6yPMw17dHfkU",
        "outputId": "8e314131-c727-40a6-e799-5a5c55cc0322",
        "colab": {
          "base_uri": "https://localhost:8080/"
        }
      },
      "execution_count": 3,
      "outputs": [
        {
          "output_type": "stream",
          "name": "stdout",
          "text": [
            "Requirement already satisfied: pathlib in /usr/local/lib/python3.10/dist-packages (1.0.1)\n"
          ]
        }
      ]
    },
    {
      "cell_type": "code",
      "source": [
        "import customtkinter as ctk\n",
        "from tkinter import *\n",
        "from tkinter import messagebox\n",
        "from openpyxl import workbook"
      ],
      "metadata": {
        "id": "LJLRlCdmIE_S"
      },
      "execution_count": 22,
      "outputs": []
    },
    {
      "cell_type": "markdown",
      "source": [
        "#Tudo começa aqui"
      ],
      "metadata": {
        "id": "_Ocu9NRNJ4R9"
      }
    },
    {
      "cell_type": "markdown",
      "source": [
        "Aparencia e tema (cor)"
      ],
      "metadata": {
        "id": "XbZ9hUuxWkqR"
      }
    },
    {
      "cell_type": "code",
      "source": [
        "ctk.set_appearance_mode(\"System\")\n",
        "ctk.set_default_color_theme(\"blue\")"
      ],
      "metadata": {
        "id": "WTWkGdoQIuk7"
      },
      "execution_count": 8,
      "outputs": []
    },
    {
      "cell_type": "markdown",
      "source": [
        "Criação da classe"
      ],
      "metadata": {
        "id": "Cb9xcCCmQ5rf"
      }
    },
    {
      "cell_type": "code",
      "source": [
        "class App(ctk.CTk):\n",
        "  def __init__(self):\n",
        "    super().__init__()\n",
        "    self.layout_config()\n",
        "    self.appearence()\n",
        "    self.todo_sistema()\n"
      ],
      "metadata": {
        "id": "0ZELj_ujJJ8_"
      },
      "execution_count": 14,
      "outputs": []
    },
    {
      "cell_type": "markdown",
      "source": [
        "Definição de funções"
      ],
      "metadata": {
        "id": "OmkQHB_rWyL5"
      }
    },
    {
      "cell_type": "code",
      "source": [
        "if __name__==\"__main__\":\n",
        "   app = App()\n",
        "   app.mainloop"
      ],
      "metadata": {
        "id": "E0ujKF1zJrhh"
      },
      "execution_count": null,
      "outputs": []
    },
    {
      "cell_type": "code",
      "source": [
        "def layout_config(self):\n",
        "  self.title(\"Aula de práticas em bíblio\")\n",
        "  self.geometry(\"700x500\")"
      ],
      "metadata": {
        "id": "ztgeJ5yXQQIF"
      },
      "execution_count": null,
      "outputs": []
    },
    {
      "cell_type": "markdown",
      "source": [
        "Definição dos padrões do fundo da aplicação\n",
        "\n"
      ],
      "metadata": {
        "id": "sD8n-xwNjP6x"
      }
    },
    {
      "cell_type": "code",
      "source": [
        "def appearance(self):\n",
        "  self.lb_apm = ctk.CTkLabel(self, text=\"Tema\", bg_color=\"transparent\",  text_color=['#000', \"#fff\"]).place (x=50, y=430)\n",
        "  self.opt_apm = ctk.CTkOptionMenu(self, values=[\"Light\", \"Dark\", \"System\"], comand=self.change_apm).place (x=50, y=460)"
      ],
      "metadata": {
        "id": "r4dIf6LdUs37"
      },
      "execution_count": null,
      "outputs": []
    },
    {
      "cell_type": "code",
      "source": [
        "def change_apm(self, nova_aparencia):\n",
        "  ctk.set_appearance_mode(nova_aparencia)"
      ],
      "metadata": {
        "id": "fnNG0khnYyVk"
      },
      "execution_count": null,
      "outputs": []
    },
    {
      "cell_type": "markdown",
      "source": [
        "This is Navbar in color teal"
      ],
      "metadata": {
        "id": "ONuBqJgujFo1"
      }
    },
    {
      "cell_type": "code",
      "source": [
        "def todo_sistema(self):\n",
        "  frame = ctk.CTkFrame(self, width= 700, height= 50, corner_radius= 0,bg_color=\"teal\", fg_color=\"teal\").place (x=0, y=10)\n",
        "  title = ctk.CTkLabel(frame, text=\"Sistema de inserção no banco de dados\", font=(\"Century Gothic bold\", 24), text_color=\"#fff\")"
      ],
      "metadata": {
        "id": "F4Yd_duYh-ok"
      },
      "execution_count": null,
      "outputs": []
    },
    {
      "cell_type": "code",
      "source": [
        "span = ctk.CTkLabel(self, text=\"Preencha os campos de acordo com a sequência: Capacidade(Gb), Estado, Data(dd/mm/aaaa), Tema, Tipo\", font=(\"Century Gothic bold\", 24), text_color=[\"#000\", \"#fff\"]).place(x=50, y=70)"
      ],
      "metadata": {
        "id": "TyR7hXrfrnqs"
      },
      "execution_count": null,
      "outputs": []
    },
    {
      "cell_type": "markdown",
      "source": [
        "Entry"
      ],
      "metadata": {
        "id": "iAU-mF3MtlrX"
      }
    },
    {
      "cell_type": "code",
      "source": [
        "capacidade_entry = ctk.CTkEntry(self, width=150, font=(\"Century Gothic bold\", 16), fg_color= \"transparent\")\n",
        "estado_entry = ctk.CTkEntry(self, width=200, font=(\"Century Gothic bold\", 16), fg_color= \"transparent\")\n",
        "data_entry = ctk.CTkEntry(self, width=150, font=(\"Century Gothic bold\", 16), fg_color= \"transparent\")\n",
        "tema_entry = ctk.CTkEntry(self, width=200, font=(\"Century Gothic bold\", 16), fg_color= \"transparent\")\n",
        "tipo_entry = ctk.CTkEntry(self, width=200, font=(\"Century Gothic bold\", 16), fg_color= \"transparent\")"
      ],
      "metadata": {
        "id": "Tr_5IyV5tor2"
      },
      "execution_count": null,
      "outputs": []
    },
    {
      "cell_type": "markdown",
      "source": [
        "Label"
      ],
      "metadata": {
        "id": "xIQNg3AUtZsP"
      }
    },
    {
      "cell_type": "code",
      "source": [
        "lb_capacidade = ctk.CTkLabel(self, text=\"Preencha os campos de acordo com a sequência: Capacidade(Gb), Estado, Data(dd/mm/aaaa), Tema, Tipo\", font=(\"Century Gothic bold\", 24), text_color=[\"#000\", \"#fff\"])\n",
        "lb_estado = ctk.CTkLabel(self, text=\"Preencha os campos de acordo com a sequência: Capacidade(Gb), Estado, Data(dd/mm/aaaa), Tema, Tipo\", font=(\"Century Gothic bold\", 24), text_color=[\"#000\", \"#fff\"])\n",
        "lb_data = ctk.CTkLabel(self, text=\"Preencha os campos de acordo com a sequência: Capacidade(Gb), Estado, Data(dd/mm/aaaa), Tema, Tipo\", font=(\"Century Gothic bold\", 24), text_color=[\"#000\", \"#fff\"])\n",
        "lb_tema = ctk.CTkLabel(self, text=\"Preencha os campos de acordo com a sequência: Capacidade(Gb), Estado, Data(dd/mm/aaaa), Tema, Tipo\", font=(\"Century Gothic bold\", 24), text_color=[\"#000\", \"#fff\"])\n",
        "lb_tipo = ctk.CTkLabel(self, text=\"Preencha os campos de acordo com a sequência: Capacidade(Gb), Estado, Data(dd/mm/aaaa), Tema, Tipo\", font=(\"Century Gothic bold\", 24), text_color=[\"#000\", \"#fff\"])"
      ],
      "metadata": {
        "id": "g8GWFKDVsw6j"
      },
      "execution_count": null,
      "outputs": []
    },
    {
      "cell_type": "markdown",
      "source": [
        "Bordas dos labels"
      ],
      "metadata": {
        "id": "Qzc3h5Tv3MBG"
      }
    },
    {
      "cell_type": "code",
      "source": [
        "bd_capacidade = ctk."
      ],
      "metadata": {
        "id": "FJ7uPoQt3a_Z"
      },
      "execution_count": null,
      "outputs": []
    }
  ],
  "metadata": {
    "colab": {
      "name": "Olá, este é o Colaboratory",
      "toc_visible": true,
      "provenance": [],
      "include_colab_link": true
    },
    "kernelspec": {
      "display_name": "Python 3",
      "name": "python3"
    }
  },
  "nbformat": 4,
  "nbformat_minor": 0
}